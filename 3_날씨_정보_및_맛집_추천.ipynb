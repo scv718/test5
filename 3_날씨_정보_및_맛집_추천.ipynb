{
  "nbformat": 4,
  "nbformat_minor": 0,
  "metadata": {
    "kernelspec": {
      "display_name": "Python 3",
      "language": "python",
      "name": "python3"
    },
    "language_info": {
      "codemirror_mode": {
        "name": "ipython",
        "version": 3
      },
      "file_extension": ".py",
      "mimetype": "text/x-python",
      "name": "python",
      "nbconvert_exporter": "python",
      "pygments_lexer": "ipython3",
      "version": "3.6.8"
    },
    "colab": {
      "name": "3. 날씨 정보 및 맛집 추천.ipynb",
      "provenance": [],
      "collapsed_sections": [],
      "include_colab_link": true
    }
  },
  "cells": [
    {
      "cell_type": "markdown",
      "metadata": {
        "id": "view-in-github",
        "colab_type": "text"
      },
      "source": [
        "<a href=\"https://colab.research.google.com/github/scv718/test5/blob/master/3_%EB%82%A0%EC%94%A8_%EC%A0%95%EB%B3%B4_%EB%B0%8F_%EB%A7%9B%EC%A7%91_%EC%B6%94%EC%B2%9C.ipynb\" target=\"_parent\"><img src=\"https://colab.research.google.com/assets/colab-badge.svg\" alt=\"Open In Colab\"/></a>"
      ]
    },
    {
      "cell_type": "code",
      "metadata": {
        "id": "PM1kg5-w5Mp1"
      },
      "source": [
        "##################################################\n",
        "# 1. 날씨 정보 가져오기\n",
        "##################################################"
      ],
      "execution_count": null,
      "outputs": []
    },
    {
      "cell_type": "code",
      "metadata": {
        "id": "-4n2LzVA5Mp7"
      },
      "source": [
        "# 1-1. 날씨 정보 가져오기\n",
        "import requests\n",
        "import datetime\n",
        "\n",
        "vilage_weather_url = \"http://apis.data.go.kr/1360000/VilageFcstInfoService/getVilageFcst?\"\n",
        "service_key = \"<YOUR SERVICE KEY>\"\n",
        "\n",
        "today = datetime.datetime.today()\n",
        "base_date = today.strftime(\"%Y%m%d\") # \"20200214\"\n",
        "base_time = \"0800\"\n",
        "\n",
        "# 첨부된 \"기상청18_동네예보 조회서비스_오픈API활용가이드_격자_위경도.xlsx\" 에서 참고한 위경도\n",
        "nx = \"60\"\n",
        "ny = \"128\"\n",
        "\n",
        "payload = \"serviceKey=\" + service_key + \"&\" +\\\n",
        "    \"dataType=json\" + \"&\" +\\\n",
        "    \"base_date=\" + base_date + \"&\" +\\\n",
        "    \"base_time=\" + base_time + \"&\" +\\\n",
        "    \"nx=\" + nx + \"&\" +\\\n",
        "    \"ny=\" + ny\n",
        "\n",
        "res = requests.get(vilage_weather_url + payload)\n",
        "\n",
        "items = res.json()['response']['body']['items']['item']"
      ],
      "execution_count": null,
      "outputs": []
    },
    {
      "cell_type": "code",
      "metadata": {
        "id": "PVC9tdJ05Mp_"
      },
      "source": [
        "# 1-2. 날씨 정보 정제하기\n",
        "\n",
        "# 날씨 정보를 담을 dictionary\n",
        "data = dict()\n",
        "data['date'] = base_date\n",
        "\n",
        "weather_data = dict()\n",
        "for item in items:\n",
        "    # 기온\n",
        "    if item['category'] == 'T3H':\n",
        "        weather_data['tmp'] = item['fcstValue']\n",
        "    \n",
        "    # 기상상태\n",
        "    if item['category'] == 'PTY':\n",
        "        \n",
        "        weather_code = item['fcstValue']\n",
        "        \n",
        "        if weather_code == '1':\n",
        "            weather_state = '비'\n",
        "        elif weather_code == '2':\n",
        "            weather_state = '비/눈'\n",
        "        elif weather_code == '3':\n",
        "            weather_state = '눈'\n",
        "        elif weather_code == '4':\n",
        "            weather_state = '소나기'\n",
        "        else:\n",
        "            weather_state = '없음'\n",
        "        \n",
        "        weather_data['code'] = weather_code\n",
        "        weather_data['state'] = weather_state\n",
        "\n",
        "data['weather'] = weather_data\n",
        "data['weather']"
      ],
      "execution_count": null,
      "outputs": []
    },
    {
      "cell_type": "code",
      "metadata": {
        "id": "0b1D2DLD5MqD"
      },
      "source": [
        "##################################################\n",
        "# 2. 미세먼지 정보 가져오기\n",
        "##################################################"
      ],
      "execution_count": null,
      "outputs": []
    },
    {
      "cell_type": "code",
      "metadata": {
        "id": "aKK3tTrR5MqI"
      },
      "source": [
        "# 2-1. 미세먼지 정보 가져오기\n",
        "\n",
        "dust_url = \"http://openapi.airkorea.or.kr/openapi/services/rest/ArpltnInforInqireSvc/getCtprvnMesureLIst?\"\n",
        "#service_key는 \"1-1. 날씨 정보 가져오기와 동일\"\n",
        "service_key = \"<YOUR SERVICE KEY>\"\n",
        "\n",
        "item_code_pm10 = \"PM10\"\n",
        "item_code_pm25 = \"PM25\"\n",
        "data_gubun = \"HOUR\"\n",
        "search_condition = \"WEEK\"\n",
        "\n",
        "payload = \"serviceKey=\" + service_key + \"&\" +\\\n",
        "    \"dataType=json\" + \"&\" +\\\n",
        "    \"dataGubun=\" + data_gubun + \"&\" +\\\n",
        "    \"searchCondition=\" + search_condition  + \"&\" +\\\n",
        "    \"itemCode=\"\n",
        "\n",
        "# pm10 pm2.5 수치 가져오기\n",
        "pm10_res = requests.get(dust_url + payload +item_code_pm10)\n",
        "pm25_res = requests.get(dust_url + payload +item_code_pm25)"
      ],
      "execution_count": null,
      "outputs": []
    },
    {
      "cell_type": "code",
      "metadata": {
        "id": "z1JYEcGn5MqL"
      },
      "source": [
        "# 2-2. 미세먼지 정보 정제하기\n",
        "\n",
        "# xml 파싱하기\n",
        "import xml.etree.ElementTree as elemTree\n",
        "\n",
        "pm10_tree = elemTree.fromstring(pm10_res.text)\n",
        "pm25_tree = elemTree.fromstring(pm25_res.text)\n",
        "\n",
        "dust_data = dict()\n",
        "for tree in [pm10_tree, pm25_tree]:\n",
        "    item = tree.find(\"body\").find(\"items\").find(\"item\")\n",
        "    code = item.findtext(\"itemCode\")\n",
        "    value = int(item.findtext(\"seoul\"))\n",
        "    \n",
        "    dust_data[code] = {'value' : value}\n",
        "\n",
        "# 결과 값\n",
        "dust_data"
      ],
      "execution_count": null,
      "outputs": []
    },
    {
      "cell_type": "code",
      "metadata": {
        "id": "fmETw4rc5MqQ",
        "outputId": "db12718c-8f0f-45c4-8805-3cfb94d08615",
        "colab": {
          "base_uri": "https://localhost:8080/",
          "height": 244
        }
      },
      "source": [
        "# PM10 미세먼지 30 80 150\n",
        "pm10_value = dust_data.get('PM10').get('value')\n",
        "if pm10_value <= 30:\n",
        "    pm10_state = \"좋음\"\n",
        "elif pm10_value <= 80:\n",
        "    pm10_state = \"보통\"\n",
        "elif pm10_value <= 150:\n",
        "    pm10_state = \"나쁨\"\n",
        "else:\n",
        "    pm10_state = \"매우나쁨\"\n",
        "\n",
        "pm25_value = dust_data.get('PM2.5').get('value')\n",
        "# PM2.5 초미세먼지 15 35 75\n",
        "if pm25_value <= 15:\n",
        "    pm25_state = \"좋음\"\n",
        "elif pm25_value <= 35:\n",
        "    pm25_state = \"보통\"\n",
        "elif pm25_value <= 75:\n",
        "    pm25_state = \"나쁨\"\n",
        "else:\n",
        "    pm25_state = \"매우나쁨\"\n",
        "\n",
        "# 미세먼지가 나쁨 이상인지/아닌지\n",
        "if pm10_value > 80 or  pm25_value > 75:\n",
        "    dust_code = \"1\"\n",
        "else:\n",
        "    dust_code = \"0\"\n",
        "\n",
        "dust_data.get('PM10')['state'] = pm10_state\n",
        "dust_data.get('PM2.5')['state'] = pm25_state\n",
        "dust_data['code'] = dust_code\n",
        "\n",
        "data['dust'] = dust_data\n",
        "data['dust']"
      ],
      "execution_count": null,
      "outputs": [
        {
          "output_type": "error",
          "ename": "NameError",
          "evalue": "ignored",
          "traceback": [
            "\u001b[0;31m---------------------------------------------------------------------------\u001b[0m",
            "\u001b[0;31mNameError\u001b[0m                                 Traceback (most recent call last)",
            "\u001b[0;32m<ipython-input-2-7f656f2f598c>\u001b[0m in \u001b[0;36m<module>\u001b[0;34m()\u001b[0m\n\u001b[1;32m      1\u001b[0m \u001b[0;31m# PM10 미세먼지 30 80 150\u001b[0m\u001b[0;34m\u001b[0m\u001b[0;34m\u001b[0m\u001b[0;34m\u001b[0m\u001b[0m\n\u001b[0;32m----> 2\u001b[0;31m \u001b[0mpm10_value\u001b[0m \u001b[0;34m=\u001b[0m \u001b[0mdust_data\u001b[0m\u001b[0;34m.\u001b[0m\u001b[0mget\u001b[0m\u001b[0;34m(\u001b[0m\u001b[0;34m'PM10'\u001b[0m\u001b[0;34m)\u001b[0m\u001b[0;34m.\u001b[0m\u001b[0mget\u001b[0m\u001b[0;34m(\u001b[0m\u001b[0;34m'value'\u001b[0m\u001b[0;34m)\u001b[0m\u001b[0;34m\u001b[0m\u001b[0;34m\u001b[0m\u001b[0m\n\u001b[0m\u001b[1;32m      3\u001b[0m \u001b[0;32mif\u001b[0m \u001b[0mpm10_value\u001b[0m \u001b[0;34m<=\u001b[0m \u001b[0;36m30\u001b[0m\u001b[0;34m:\u001b[0m\u001b[0;34m\u001b[0m\u001b[0;34m\u001b[0m\u001b[0m\n\u001b[1;32m      4\u001b[0m     \u001b[0mpm10_state\u001b[0m \u001b[0;34m=\u001b[0m \u001b[0;34m\"좋음\"\u001b[0m\u001b[0;34m\u001b[0m\u001b[0;34m\u001b[0m\u001b[0m\n\u001b[1;32m      5\u001b[0m \u001b[0;32melif\u001b[0m \u001b[0mpm10_value\u001b[0m \u001b[0;34m<=\u001b[0m \u001b[0;36m80\u001b[0m\u001b[0;34m:\u001b[0m\u001b[0;34m\u001b[0m\u001b[0;34m\u001b[0m\u001b[0m\n",
            "\u001b[0;31mNameError\u001b[0m: name 'dust_data' is not defined"
          ]
        }
      ]
    },
    {
      "cell_type": "code",
      "metadata": {
        "id": "Z1omAJtB5MqW"
      },
      "source": [
        "data = {'weather': {'code': '0', 'state': '없음', 'tmp': '9'},\n",
        " 'date': '20200214',\n",
        " 'dust': {'PM10': {'value': 94, 'state': '나쁨'},\n",
        "  'PM2.5': {'value': 71, 'state': '나쁨'},\n",
        "  'code': '1'}}"
      ],
      "execution_count": null,
      "outputs": []
    },
    {
      "cell_type": "code",
      "metadata": {
        "id": "cXOTejci5Mqb"
      },
      "source": [
        "##################################################\n",
        "# 3. 날씨에 따른 음식 데이터 구하기\n",
        "##################################################"
      ],
      "execution_count": null,
      "outputs": []
    },
    {
      "cell_type": "code",
      "metadata": {
        "id": "zs_4VJhM5Mqe"
      },
      "source": [
        "# 음식 정의\n",
        "# 구글에서 검색하였습니다.\n",
        "rain_foods = \"부대찌개,아구찜,해물탕,칼국수,수제비,짬뽕,우동,치킨,국밥,김치부침개,두부김치,파전\".split(',')\n",
        "pmhigh_foods = \"콩나물국밥,고등어,굴,쌀국수,마라탕\".split(',')"
      ],
      "execution_count": null,
      "outputs": []
    },
    {
      "cell_type": "code",
      "metadata": {
        "id": "sN1OSqsD5Mqi"
      },
      "source": [
        "##################################################\n",
        "# 4. 음식점 검색하기 - 네이버 검색 API\n",
        "##################################################"
      ],
      "execution_count": null,
      "outputs": []
    },
    {
      "cell_type": "code",
      "metadata": {
        "id": "gXr_T4a35Mqv"
      },
      "source": [
        "# 4-1. 네이버 인증\n",
        "# https://developers.naver.com/apps\n",
        "# 해당 사이트에서 로그인 후 \"Cliend ID\"와 \"Client Secret\"을 얻어오세요\n",
        "ncreds = {\n",
        "    \"client_id\": \"<CLIENT_ID>\",      \n",
        "    \"client_secret\" : \"<CLIENT_SECRET>\"\n",
        "}\n",
        "nheaders = {\n",
        "    \"X-Naver-Client-Id\" : ncreds.get('client_id'),\n",
        "    \"X-Naver-Client-Secret\" : ncreds.get('client_secret')\n",
        "}"
      ],
      "execution_count": null,
      "outputs": []
    },
    {
      "cell_type": "code",
      "metadata": {
        "id": "yGrJkih45Mqy"
      },
      "source": [
        "# 4-2. 날씨 조건 설정\n",
        "# 경우 1 : 비/눈/소나기           => 비오는날 음식 3개 추천\n",
        "# 경우 2 : 초/미세먼지 나쁨 이상  => 미세먼지에 좋은 음식 3개 추천\n",
        "# 경우 3 : 정상                   => 블로그 리뷰 순 맛집 추천\n",
        "\n",
        "# weather_state\n",
        "if data.get('weather').get('code') != '0':\n",
        "    weather_state = '1'\n",
        "elif data.get('dust').get('code') == '1':\n",
        "    weather_state = '2'\n",
        "else:\n",
        "    weather_state = '3'"
      ],
      "execution_count": null,
      "outputs": []
    },
    {
      "cell_type": "code",
      "metadata": {
        "id": "8jzkYXq_5Mq1"
      },
      "source": [
        "# 4-3. 조건에 해당하는 음식 리스트 뽑기\n",
        "import random\n",
        "# random.sample(x, k=len(x)) 무작위로 리스트 섞기\n",
        "\n",
        "foods_list = None\n",
        "\n",
        "# 경우 1, 2, 3\n",
        "if weather_state == '1':\n",
        "    foods_list = random.sample(rain_foods, k=len(rain_foods))\n",
        "elif weather_state == '2':\n",
        "    foods_list = random.sample(pmhigh_foods, k=len(pmhigh_foods))\n",
        "else:\n",
        "    foods_list = ['']\n",
        "\n",
        "foods_list\n",
        "# ['쌀국수', '굴', '콩나물국밥', '마라탕', '고등어']"
      ],
      "execution_count": null,
      "outputs": []
    },
    {
      "cell_type": "code",
      "metadata": {
        "id": "oH-udrMH5Mq5"
      },
      "source": [
        "# 4-4. 네이버 맛집 검색하기\n",
        "import urllib\n",
        "# urllib.parse.quote(query) URL에서 검색어를 인코딩하기 위한 라이브러리\n",
        "\n",
        "# 네이버 지역 검색 주소\n",
        "naver_local_url = \"https://openapi.naver.com/v1/search/local.json?\"\n",
        "\n",
        "# 검색에 사용될 파라미터\n",
        "# 정렬 sort : 리뷰순(comment)\n",
        "# 검색어 query : 인코딩된 문자열\n",
        "params_format = \"sort=comment&query=\"\n",
        "\n",
        "# 위치는 사용자가 사용할 지역으로 변경가능\n",
        "location = \"국민대\"\n",
        "\n",
        "# 추천된 맛집을 담을 리스트\n",
        "recommands = []\n",
        "for food in foods_list:\n",
        "    # 검색어 지정\n",
        "    query = location + \" \" + food + \" 맛집\"\n",
        "    enc_query = urllib.parse.quote(query)\n",
        "    params = params_format + enc_query\n",
        "    \n",
        "    # 검색\n",
        "    # headers : 네이버 인증 정보\n",
        "    res = requests.get(naver_local_url + params, headers=nheaders)\n",
        "    \n",
        "    # 맛집 검색 결과\n",
        "    result_list = res.json().get('items')\n",
        "\n",
        "    # 경우 3 처리\n",
        "    # 맛집 검색 결과에서 가장 상위 3개를 가져옴\n",
        "    if weather_state == '3':\n",
        "        recommands.append(result_list[:3])\n",
        "        break\n",
        "    \n",
        "    # 경우 1,2 처리\n",
        "    # 해당 음식 검색 결과에서 가장 상위를 가져옴\n",
        "    if result_list:\n",
        "        recommands.append(result_list[0])\n",
        "        # 3개를 찾았다면 검색 중단\n",
        "        if len(recommands) >= 3:\n",
        "            break"
      ],
      "execution_count": null,
      "outputs": []
    },
    {
      "cell_type": "code",
      "metadata": {
        "id": "90p_lypA5Mq8"
      },
      "source": [
        "recommands"
      ],
      "execution_count": null,
      "outputs": []
    },
    {
      "cell_type": "code",
      "metadata": {
        "id": "zhdquvLK5Mq_"
      },
      "source": [
        "##################################################\n",
        "# 5. 추천 결과 카카오톡 보내기\n",
        "##################################################"
      ],
      "execution_count": null,
      "outputs": []
    },
    {
      "cell_type": "code",
      "metadata": {
        "id": "H2Da-1Mu5MrB"
      },
      "source": [
        "# 5-1. 카카오톡 인증\n",
        "# https://developers.kakao.com/docs/restapi/tool\n",
        "# 해당 사이트에서 로그인 후 'Access token'을 얻어오세요\n",
        "kcreds = {\n",
        "    \"access_token\" : \"<Acess token>\"\n",
        "}\n",
        "kheaders = {\n",
        "    \"Authorization\": \"Bearer \" + kcreds.get('access_token')\n",
        "}"
      ],
      "execution_count": null,
      "outputs": []
    },
    {
      "cell_type": "code",
      "metadata": {
        "id": "Ff6YSBJq5MrF"
      },
      "source": [
        "# 5-2. 날씨 정보 카카오톡 보내기 - 텍스트 템플릿\n",
        "\n",
        "# 카카오톡 URL 주소\n",
        "kakaotalk_template_url = \"https://kapi.kakao.com/v2/api/talk/memo/default/send\"\n",
        "\n",
        "# 날씨 상세 정보 URL\n",
        "weather_url = \"https://search.naver.com/search.naver?sm=top_hty&fbm=0&ie=utf8&query=%EB%82%A0%EC%94%A8\"\n",
        "\n",
        "# 날씨 정보 만들기\n",
        "text = f\"\"\"\\\n",
        "#날씨 정보 ({data['date']})\n",
        "기온 : {data['weather']['tmp']}\n",
        "기우  : {data['weather']['state']}\n",
        "미세먼지 : {data['dust']['PM10']['value']} {data['dust']['PM10']['state']}\n",
        "초미세먼지 : {data['dust']['PM2.5']['value']} {data['dust']['PM2.5']['state']}\n",
        "\"\"\"\n",
        "\n",
        "# 텍스트 템플릿 형식 만들기\n",
        "template = {\n",
        "  \"object_type\": \"text\",\n",
        "  \"text\": text,\n",
        "  \"link\": {\n",
        "    \"web_url\": weather_url,\n",
        "    \"mobile_web_url\": weather_url\n",
        "  },\n",
        "  \"button_title\": \"날씨 상세보기\"\n",
        "}\n",
        "\n",
        "# JSON 형식 -> 문자열 변환\n",
        "payload = {\n",
        "    \"template_object\" : json.dumps(template)\n",
        "}\n",
        "\n",
        "# 카카오톡 보내기\n",
        "res = requests.post(kakaotalk_template_url, data=payload, headers=kheaders)\n",
        "\n",
        "if res.json().get('result_code') == 0:\n",
        "    print('메시지를 성공적으로 보냈습니다.')\n",
        "else:\n",
        "    print('메시지를 성공적으로 보내지 못했습니다. 오류메시지 : ' + str(res.json()))"
      ],
      "execution_count": null,
      "outputs": []
    },
    {
      "cell_type": "code",
      "metadata": {
        "id": "AVJa0liv5MrI"
      },
      "source": [
        "# 5-3. 음식 정보 보내기 - 리스트 템플릿\n",
        "\n",
        "# 리스트 템플릿 형식 만들기\n",
        "contents = []\n",
        "template = {\n",
        "    \"object_type\" : \"list\",\n",
        "    \"header_title\" : \"현재 날씨에 따른 음식 추천\",\n",
        "    \"header_link\" : {\n",
        "        \"web_url\": weather_url,\n",
        "        \"mobile_web_url\" : weather_url\n",
        "    },\n",
        "    \"contents\" : contents,\n",
        "    \"buttons\" : [\n",
        "        {\n",
        "            \"title\" : \"날씨 정보 상세보기\",\n",
        "            \"link\" : {\n",
        "                \"web_url\": weather_url,\n",
        "                \"mobile_web_url\" : weather_url\n",
        "            }\n",
        "        }\n",
        "    ],\n",
        "}\n",
        "\n",
        "# contents 만들기\n",
        "for place in recommands:\n",
        "    title = place.get('title')  # 장소 이름\n",
        "    # title : 태극쿵푸<b>마라탕</b>\n",
        "    # html 태그 제거\n",
        "    title = title.replace('<b>','').replace('</b>','')\n",
        "    \n",
        "    category = place.get('category')  # 장소 카테고리\n",
        "    telephone = place.get('telephone')  # 장소 전화번호\n",
        "    address = place.get('address')  # 장소 지번 주소\n",
        "\n",
        "    # 각 장소를 클릭할 때 네이버 검색으로 연결해주기 위해 작성된 코드\n",
        "    enc_address = urllib.parse.quote(address + ' ' + title)\n",
        "    query = \"query=\" + enc_address\n",
        "\n",
        "    # 장소 카테고리가 카페이면 카페 이미지\n",
        "    # 이외에는 음식 이미지\n",
        "    if '카페' in category:\n",
        "        image_url = \"https://freesvg.org/img/pitr_Coffee_cup_icon.png\"\n",
        "    else:\n",
        "        image_url = \"https://freesvg.org/img/bentolunch.png?w=150&h=150&fit=fill\"\n",
        "\n",
        "    # 전화번호가 있다면 제목과 함께 넣어줍니다.\n",
        "    if telephone:\n",
        "        title = title + \"\\ntel) \" + telephone\n",
        "\n",
        "    # 카카오톡 리스트 템플릿 형식에 맞춰줍니다.\n",
        "    content = {\n",
        "        \"title\": \"[\" + category + \"] \" + title,\n",
        "        \"description\": ' '.join(address.split()[1:]),\n",
        "        \"image_url\": image_url,\n",
        "        \"image_width\": 50, \"image_height\": 50,\n",
        "        \"link\": {\n",
        "            \"web_url\": \"https://search.naver.com/search.naver?\" + query,\n",
        "            \"mobile_web_url\": \"https://search.naver.com/search.naver?\" + query\n",
        "        }\n",
        "    }\n",
        "    \n",
        "    contents.append(content)\n",
        "\n",
        "# JSON 형식 -> 문자열 변환\n",
        "payload = {\n",
        "    \"template_object\" : json.dumps(template)\n",
        "}\n",
        "\n",
        "# 카카오톡 보내기\n",
        "res = requests.post(kakaotalk_template_url, data=payload, headers=kheaders)\n",
        "\n",
        "if res.json().get('result_code') == 0:\n",
        "    print('메시지를 성공적으로 보냈습니다.')\n",
        "else:\n",
        "    print('메시지를 성공적으로 보내지 못했습니다. 오류메시지 : ' + str(res.json()))"
      ],
      "execution_count": null,
      "outputs": []
    },
    {
      "cell_type": "code",
      "metadata": {
        "id": "8RT3tr9s5MrL"
      },
      "source": [
        "data"
      ],
      "execution_count": null,
      "outputs": []
    }
  ]
}